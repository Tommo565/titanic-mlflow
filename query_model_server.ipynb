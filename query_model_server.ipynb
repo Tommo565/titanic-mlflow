{
 "cells": [
  {
   "cell_type": "code",
   "execution_count": null,
   "id": "4e7223ce",
   "metadata": {},
   "outputs": [],
   "source": [
    "import pandas as pd\n",
    "import numpy as np\n",
    "import requests\n",
    "\n",
    "url = 'http://127.0.0.1:1235/invocations'"
   ]
  },
  {
   "cell_type": "code",
   "execution_count": null,
   "id": "7541e489",
   "metadata": {},
   "outputs": [],
   "source": [
    "\n",
    "df = pd.read_csv(\"./data/dev/holdout_raw.csv\")\n",
    "\n",
    "for column in df.columns.tolist():\n",
    "    if isinstance(df[column], np.int64):\n",
    "        df[column] = df[column].astype(float)\n",
    "\n",
    "data = df.iloc[0:1].to_json(orient=\"split\")\n",
    "\n",
    "headers = {'Content-Type': 'application/json; format=pandas-split'}\n",
    "r = requests.post(url=url, headers=headers, data=data)\n",
    "r.json()"
   ]
  },
  {
   "cell_type": "code",
   "execution_count": null,
   "id": "98ae2aa0",
   "metadata": {},
   "outputs": [],
   "source": []
  }
 ],
 "metadata": {
  "kernelspec": {
   "display_name": "titanic-mlflow-env",
   "language": "python",
   "name": "titanic-mlflow-env"
  },
  "language_info": {
   "codemirror_mode": {
    "name": "ipython",
    "version": 3
   },
   "file_extension": ".py",
   "mimetype": "text/x-python",
   "name": "python",
   "nbconvert_exporter": "python",
   "pygments_lexer": "ipython3",
   "version": "3.8.10"
  }
 },
 "nbformat": 4,
 "nbformat_minor": 5
}
